{
 "cells": [
  {
   "cell_type": "code",
   "execution_count": 37,
   "id": "1cd7f49e-bc24-470a-b3d5-eccd45cd4d9e",
   "metadata": {},
   "outputs": [],
   "source": [
    "import torch\n",
    "device = 'cpu'"
   ]
  },
  {
   "cell_type": "code",
   "execution_count": 6,
   "id": "7acc9742-0a70-40f8-94cb-bf618609dce0",
   "metadata": {},
   "outputs": [
    {
     "name": "stdout",
     "output_type": "stream",
     "text": [
      "42460\n",
      "﻿The Project Gutenbe\n",
      "['\\n', ' ', '!', '\"', '#', '$', '%', \"'\", '(', ')', '*', ',', '-', '.', '/', '0', '1', '2', '3', '4', '5', '6', '7', '8', '9', ':', ';', '?', 'A', 'B', 'C', 'D', 'E', 'F', 'G', 'H', 'I', 'J', 'K', 'L', 'M', 'N', 'O', 'P', 'Q', 'R', 'S', 'T', 'U', 'V', 'W', 'X', 'Y', 'Z', '[', ']', '_', 'a', 'b', 'c', 'd', 'e', 'f', 'g', 'h', 'i', 'j', 'k', 'l', 'm', 'n', 'o', 'p', 'q', 'r', 's', 't', 'u', 'v', 'w', 'x', 'y', 'z', '—', '‘', '’', '“', '”', '•', '™', '\\ufeff']\n"
     ]
    }
   ],
   "source": [
    "with open('data.txt', 'r', encoding='utf-8') as f:\n",
    "    text = f.read()\n",
    "chars = sorted(set(text))"
   ]
  },
  {
   "cell_type": "code",
   "execution_count": 54,
   "id": "1f5d056a-d933-4b8a-8980-9041772a73f9",
   "metadata": {},
   "outputs": [],
   "source": [
    "char_to_int = dict()\n",
    "int_to_char = dict()\n",
    "for i,c in enumerate(chars):\n",
    "    char_to_int[c] = i\n",
    "    int_to_char[i] = c\n",
    "encoder = lambda s: torch.tensor([char_to_int[c] for c in s])\n",
    "decoder = lambda l: ''.join([int_to_char[i] for i in l])"
   ]
  },
  {
   "cell_type": "code",
   "execution_count": 35,
   "id": "5ca5da13-0c8d-4138-a8dc-a0f2dce84915",
   "metadata": {},
   "outputs": [
    {
     "name": "stdout",
     "output_type": "stream",
     "text": [
      "tensor([90, 47, 64, 61,  1, 43, 74, 71, 66])\n"
     ]
    }
   ],
   "source": [
    "tensor = torch.tensor(encoder(text), dtype=torch.long)\n",
    "n = int(0.8 * len(tensor))\n",
    "data = tensor[:n]\n",
    "eval = tensor[n:]\n",
    "print(data[:9])"
   ]
  },
  {
   "cell_type": "code",
   "execution_count": 119,
   "id": "a1884014-22a5-49e7-a618-738b754bea8f",
   "metadata": {},
   "outputs": [],
   "source": [
    "block_size = 8\n",
    "batch_size = 4\n",
    "def get_batch(split):\n",
    "    if split == \"training\":\n",
    "        training_data = data\n",
    "    else:\n",
    "        training_data = eval\n",
    "    ix = torch.randint(len(training_data) - block_size - 1, (batch_size,))\n",
    "    x = torch.stack([ training_data[i:i+block_size] for i in ix])\n",
    "    y = torch.stack([ training_data[i+1:i+block_size+1] for i in ix])\n",
    "    x, y = x.to(device), y.to(device)\n",
    "    return x, y\n",
    "x,y = get_batch(\"training\")"
   ]
  },
  {
   "cell_type": "code",
   "execution_count": 132,
   "id": "dd92c144-cfd0-4ac5-9f70-06281481317e",
   "metadata": {},
   "outputs": [],
   "source": [
    "class BigramLanguageModel(nn.Module):\n",
    "    def __init__(self, vocab_size):\n",
    "        super().__init__()\n",
    "        self.token_embedding_table = nn.Embedding(vocab_size, vocab_size)\n",
    "        \n",
    "    def forward(self, index, targets=None):\n",
    "        logits = self.token_embedding_table(index)\n",
    "        \n",
    "        \n",
    "        if targets is None:\n",
    "            loss = None\n",
    "        else:\n",
    "            B, T, C = logits.shape\n",
    "            logits = logits.view(B*T, C)\n",
    "            targets = targets.view(B*T)\n",
    "            loss = F.cross_entropy(logits, targets)\n",
    "        \n",
    "        return logits, loss\n",
    "    \n",
    "    def generate(self, index, max_new_tokens):\n",
    "        # index is (B, T) array of indices in the current context\n",
    "        for _ in range(max_new_tokens):\n",
    "            # get the predictions\n",
    "            logits, loss = self.forward(index)\n",
    "            # focus only on the last time step\n",
    "            logits = logits[:, -1, :] # becomes (B, C)\n",
    "            # apply softmax to get probabilities\n",
    "            probs = F.softmax(logits, dim=-1) # (B, C)\n",
    "            # sample from the distribution\n",
    "            index_next = torch.multinomial(probs, num_samples=1) # (B, 1)\n",
    "            # append sampled index to the running sequence\n",
    "            index = torch.cat((index, index_next), dim=1) # (B, T+1)\n",
    "        return index\n",
    "\n",
    "class LLM(torch.nn.Module):\n",
    "    def __init__(self, vocab_size):\n",
    "        super().__init__()\n",
    "        self.token_table = torch.nn.Embedding(vocab_size, vocab_size)\n",
    "\n",
    "    def forward(self, index, targets):\n",
    "        # B, T, C\n",
    "        logits = self.token_table(index)\n",
    "        if targets is None:\n",
    "            return logits, None\n",
    "        B,T,C = logits.size()\n",
    "        logits = logits.view(B * T, C)\n",
    "        targets = targets.view(B * T)\n",
    "        loss = torch.nn.functional.cross_entropy(logits, targets)\n",
    "        return logits, loss\n",
    "\n",
    "    def generate(self, index, max_gen_token=500):\n",
    "        for i in range(max_gen_token):\n",
    "            logits, loss = self.forward(index, None)\n",
    "            logits = logits[-1,]\n",
    "            prob = torch.nn.functional.softmax(logits, dim=-1)\n",
    "            index_next = torch.multinomial(prob, num_samples=1)\n",
    "            index = torch.cat((index, index_next), dim=0)\n",
    "        return index\n",
    "\n",
    "    def train_and_update(self, get_batch, lr, epoch):\n",
    "        optimizer = torch.optim.AdamW(self.parameters(), lr=lr)\n",
    "        for _ in range(int(epoch)):\n",
    "            x, y = get_batch(\"training\")\n",
    "            logits, loss = self.forward(x, y)\n",
    "            optimizer.zero_grad(set_to_none=True)\n",
    "            loss.backward()\n",
    "            optimizer.step()"
   ]
  },
  {
   "cell_type": "code",
   "execution_count": 133,
   "id": "8c370cce-95c7-4f8d-9c9c-4e3c379013fe",
   "metadata": {},
   "outputs": [
    {
     "name": "stdout",
     "output_type": "stream",
     "text": [
      "vocab size is 91\n"
     ]
    }
   ],
   "source": [
    "print(\"vocab size is %d\" %(len(chars)))\n",
    "llm = LLM(len(chars))"
   ]
  },
  {
   "cell_type": "code",
   "execution_count": null,
   "id": "c874e2d3-0697-4396-abfe-6d0d53c91e73",
   "metadata": {},
   "outputs": [],
   "source": [
    "context = encoder(\"hello\")\n",
    "gen = llm.generate(context)\n",
    "llm.to(device)\n",
    "print(decoder(gen.tolist()))\n",
    "llm.train_and_update(get_batch, 3e-4, 1e30)"
   ]
  },
  {
   "cell_type": "code",
   "execution_count": null,
   "id": "27771b6d-93d3-4efa-9b7f-ddbbbad4ddce",
   "metadata": {},
   "outputs": [],
   "source": []
  }
 ],
 "metadata": {
  "kernelspec": {
   "display_name": "Python 3 (ipykernel)",
   "language": "python",
   "name": "python3"
  },
  "language_info": {
   "codemirror_mode": {
    "name": "ipython",
    "version": 3
   },
   "file_extension": ".py",
   "mimetype": "text/x-python",
   "name": "python",
   "nbconvert_exporter": "python",
   "pygments_lexer": "ipython3",
   "version": "3.9.6"
  }
 },
 "nbformat": 4,
 "nbformat_minor": 5
}
